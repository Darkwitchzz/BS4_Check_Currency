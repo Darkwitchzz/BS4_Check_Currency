{
 "cells": [
  {
   "cell_type": "code",
   "execution_count": null,
   "id": "73e454d3-2299-4d94-8fe6-2bb01af1ab46",
   "metadata": {},
   "outputs": [],
   "source": [
    "print(\"fu\")"
   ]
  }
 ],
 "metadata": {
  "kernelspec": {
   "display_name": "Python 3 (ipykernel)",
   "language": "python",
   "name": "python3"
  },
  "language_info": {
   "codemirror_mode": {
    "name": "ipython",
    "version": 3
   },
   "file_extension": ".py",
   "mimetype": "text/x-python",
   "name": "python",
   "nbconvert_exporter": "python",
   "pygments_lexer": "ipython3",
   "version": "3.9.16"
  }
 },
 "nbformat": 4,
 "nbformat_minor": 5
}
